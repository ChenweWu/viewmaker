{
 "cells": [
  {
   "cell_type": "code",
   "execution_count": 1,
   "id": "3b6ad99b",
   "metadata": {},
   "outputs": [],
   "source": [
    "import sys\n",
    "sys.path.append('/n/scratch3/users/k/kaw308/viewmaker')\n",
    "from aug_3kg import *\n",
    "from src.datasets.ptb_xl_1d import PTB_XL_1d\n",
    "from src.models.vcg import *\n",
    "from src.models.aug_3kg import *\n",
    "import numpy as np\n",
    "import torch"
   ]
  },
  {
   "cell_type": "code",
   "execution_count": 3,
   "id": "14f8d562",
   "metadata": {},
   "outputs": [],
   "source": [
    "transform = SingleRandomTransform(\n",
    "      RandomRotation(45),\n",
    "      RandomScale(1.5),\n",
    "      RandomGaussian(False),\n",
    "      RandomTimeMask(0.5)\n",
    "        )"
   ]
  },
  {
   "cell_type": "code",
   "execution_count": 4,
   "id": "3502be87",
   "metadata": {},
   "outputs": [
    {
     "name": "stdout",
     "output_type": "stream",
     "text": [
      "<class 'torch.Tensor'>\n",
      "torch.Size([12, 1000])\n"
     ]
    }
   ],
   "source": [
    "out = transform(torch.rand(12,1000))\n",
    "print(out[0].shape)"
   ]
  },
  {
   "cell_type": "code",
   "execution_count": null,
   "id": "03ec4859",
   "metadata": {},
   "outputs": [],
   "source": []
  }
 ],
 "metadata": {
  "kernelspec": {
   "display_name": "Python 3 (ipykernel)",
   "language": "python",
   "name": "python3"
  },
  "language_info": {
   "codemirror_mode": {
    "name": "ipython",
    "version": 3
   },
   "file_extension": ".py",
   "mimetype": "text/x-python",
   "name": "python",
   "nbconvert_exporter": "python",
   "pygments_lexer": "ipython3",
   "version": "3.7.4"
  }
 },
 "nbformat": 4,
 "nbformat_minor": 5
}
